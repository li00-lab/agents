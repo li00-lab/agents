{
 "cells": [
  {
   "cell_type": "markdown",
   "metadata": {},
   "source": [
    "## Week 2 Day 1\n",
    "\n",
    "And now! Our first look at OpenAI Agents SDK\n",
    "\n",
    "You won't believe how lightweight this is.."
   ]
  },
  {
   "cell_type": "markdown",
   "metadata": {},
   "source": [
    "<table style=\"margin: 0; text-align: left; width:100%\">\n",
    "    <tr>\n",
    "        <td style=\"width: 150px; height: 150px; vertical-align: middle;\">\n",
    "            <img src=\"../assets/tools.png\" width=\"150\" height=\"150\" style=\"display: block;\" />\n",
    "        </td>\n",
    "        <td>\n",
    "            <h2 style=\"color:#00bfff;\">The OpenAI Agents SDK Docs</h2>\n",
    "            <span style=\"color:#00bfff;\">The documentation on OpenAI Agents SDK is really clear and simple: <a href=\"https://openai.github.io/openai-agents-python/\">https://openai.github.io/openai-agents-python/</a> and it's well worth a look.\n",
    "            </span>\n",
    "        </td>\n",
    "    </tr>\n",
    "</table>"
   ]
  },
  {
   "cell_type": "code",
   "execution_count": 1,
   "metadata": {},
   "outputs": [],
   "source": [
    "# The imports\n",
    "\n",
    "from dotenv import load_dotenv\n",
    "from agents import Agent, Runner, trace\n",
    "\n"
   ]
  },
  {
   "cell_type": "code",
   "execution_count": 2,
   "metadata": {},
   "outputs": [
    {
     "data": {
      "text/plain": [
       "True"
      ]
     },
     "execution_count": 2,
     "metadata": {},
     "output_type": "execute_result"
    }
   ],
   "source": [
    "# The usual starting point\n",
    "\n",
    "load_dotenv(override=True)\n"
   ]
  },
  {
   "cell_type": "code",
   "execution_count": 3,
   "metadata": {},
   "outputs": [],
   "source": [
    "\n",
    "# Make an agent with name, instructions, model\n",
    "\n",
    "agent = Agent(name=\"Jokester\", instructions=\"You are a joke teller\", model=\"gpt-4o-mini\")"
   ]
  },
  {
   "cell_type": "code",
   "execution_count": 4,
   "metadata": {},
   "outputs": [
    {
     "name": "stdout",
     "output_type": "stream",
     "text": [
      "Requirement already satisfied: opentelemetry-exporter-google-cloud in /Applications/anaconda3/lib/python3.11/site-packages (0.18b1)\n",
      "Requirement already satisfied: google-cloud-monitoring<2.0.0 in /Applications/anaconda3/lib/python3.11/site-packages (from opentelemetry-exporter-google-cloud) (1.1.2)\n",
      "Requirement already satisfied: google-cloud-trace<1.0.0,>=0.24.0 in /Applications/anaconda3/lib/python3.11/site-packages (from opentelemetry-exporter-google-cloud) (0.24.2)\n",
      "Collecting opentelemetry-api==0.17b0 (from opentelemetry-exporter-google-cloud)\n",
      "  Using cached opentelemetry_api-0.17b0-py3-none-any.whl.metadata (1.3 kB)\n",
      "Collecting opentelemetry-sdk==0.17b0 (from opentelemetry-exporter-google-cloud)\n",
      "  Using cached opentelemetry_sdk-0.17b0-py3-none-any.whl.metadata (1.3 kB)\n",
      "Requirement already satisfied: google-api-core!=2.0.*,!=2.1.*,!=2.2.*,!=2.3.0,<3.0.0dev,>=1.31.5 in /Applications/anaconda3/lib/python3.11/site-packages (from google-api-core[grpc]!=2.0.*,!=2.1.*,!=2.2.*,!=2.3.0,<3.0.0dev,>=1.31.5->google-cloud-monitoring<2.0.0->opentelemetry-exporter-google-cloud) (2.10.2)\n",
      "Collecting protobuf<4.0.0dev (from google-cloud-monitoring<2.0.0->opentelemetry-exporter-google-cloud)\n",
      "  Using cached protobuf-3.20.3-py2.py3-none-any.whl.metadata (720 bytes)\n",
      "Requirement already satisfied: googleapis-common-protos<2.0dev,>=1.56.2 in /Applications/anaconda3/lib/python3.11/site-packages (from google-api-core!=2.0.*,!=2.1.*,!=2.2.*,!=2.3.0,<3.0.0dev,>=1.31.5->google-api-core[grpc]!=2.0.*,!=2.1.*,!=2.2.*,!=2.3.0,<3.0.0dev,>=1.31.5->google-cloud-monitoring<2.0.0->opentelemetry-exporter-google-cloud) (1.70.0)\n",
      "Requirement already satisfied: google-auth<3.0dev,>=1.25.0 in /Applications/anaconda3/lib/python3.11/site-packages (from google-api-core!=2.0.*,!=2.1.*,!=2.2.*,!=2.3.0,<3.0.0dev,>=1.31.5->google-api-core[grpc]!=2.0.*,!=2.1.*,!=2.2.*,!=2.3.0,<3.0.0dev,>=1.31.5->google-cloud-monitoring<2.0.0->opentelemetry-exporter-google-cloud) (2.28.2)\n",
      "Requirement already satisfied: requests<3.0.0dev,>=2.18.0 in /Applications/anaconda3/lib/python3.11/site-packages (from google-api-core!=2.0.*,!=2.1.*,!=2.2.*,!=2.3.0,<3.0.0dev,>=1.31.5->google-api-core[grpc]!=2.0.*,!=2.1.*,!=2.2.*,!=2.3.0,<3.0.0dev,>=1.31.5->google-cloud-monitoring<2.0.0->opentelemetry-exporter-google-cloud) (2.32.3)\n",
      "Requirement already satisfied: grpcio<2.0dev,>=1.33.2 in /Applications/anaconda3/lib/python3.11/site-packages (from google-api-core[grpc]!=2.0.*,!=2.1.*,!=2.2.*,!=2.3.0,<3.0.0dev,>=1.31.5->google-cloud-monitoring<2.0.0->opentelemetry-exporter-google-cloud) (1.73.1)\n",
      "Requirement already satisfied: grpcio-status<2.0dev,>=1.33.2 in /Applications/anaconda3/lib/python3.11/site-packages (from google-api-core[grpc]!=2.0.*,!=2.1.*,!=2.2.*,!=2.3.0,<3.0.0dev,>=1.31.5->google-cloud-monitoring<2.0.0->opentelemetry-exporter-google-cloud) (1.49.0rc1)\n",
      "Requirement already satisfied: cachetools<6.0,>=2.0.0 in /Applications/anaconda3/lib/python3.11/site-packages (from google-auth<3.0dev,>=1.25.0->google-api-core!=2.0.*,!=2.1.*,!=2.2.*,!=2.3.0,<3.0.0dev,>=1.31.5->google-api-core[grpc]!=2.0.*,!=2.1.*,!=2.2.*,!=2.3.0,<3.0.0dev,>=1.31.5->google-cloud-monitoring<2.0.0->opentelemetry-exporter-google-cloud) (4.2.2)\n",
      "Requirement already satisfied: pyasn1-modules>=0.2.1 in /Applications/anaconda3/lib/python3.11/site-packages (from google-auth<3.0dev,>=1.25.0->google-api-core!=2.0.*,!=2.1.*,!=2.2.*,!=2.3.0,<3.0.0dev,>=1.31.5->google-api-core[grpc]!=2.0.*,!=2.1.*,!=2.2.*,!=2.3.0,<3.0.0dev,>=1.31.5->google-cloud-monitoring<2.0.0->opentelemetry-exporter-google-cloud) (0.2.8)\n",
      "Requirement already satisfied: rsa<5,>=3.1.4 in /Applications/anaconda3/lib/python3.11/site-packages (from google-auth<3.0dev,>=1.25.0->google-api-core!=2.0.*,!=2.1.*,!=2.2.*,!=2.3.0,<3.0.0dev,>=1.31.5->google-api-core[grpc]!=2.0.*,!=2.1.*,!=2.2.*,!=2.3.0,<3.0.0dev,>=1.31.5->google-cloud-monitoring<2.0.0->opentelemetry-exporter-google-cloud) (4.9)\n",
      "Requirement already satisfied: google-cloud-core<3.0dev,>=1.0.3 in /Applications/anaconda3/lib/python3.11/site-packages (from google-cloud-trace<1.0.0,>=0.24.0->opentelemetry-exporter-google-cloud) (2.4.3)\n",
      "Requirement already satisfied: charset-normalizer<4,>=2 in /Applications/anaconda3/lib/python3.11/site-packages (from requests<3.0.0dev,>=2.18.0->google-api-core!=2.0.*,!=2.1.*,!=2.2.*,!=2.3.0,<3.0.0dev,>=1.31.5->google-api-core[grpc]!=2.0.*,!=2.1.*,!=2.2.*,!=2.3.0,<3.0.0dev,>=1.31.5->google-cloud-monitoring<2.0.0->opentelemetry-exporter-google-cloud) (2.0.4)\n",
      "Requirement already satisfied: idna<4,>=2.5 in /Applications/anaconda3/lib/python3.11/site-packages (from requests<3.0.0dev,>=2.18.0->google-api-core!=2.0.*,!=2.1.*,!=2.2.*,!=2.3.0,<3.0.0dev,>=1.31.5->google-api-core[grpc]!=2.0.*,!=2.1.*,!=2.2.*,!=2.3.0,<3.0.0dev,>=1.31.5->google-cloud-monitoring<2.0.0->opentelemetry-exporter-google-cloud) (3.4)\n",
      "Requirement already satisfied: urllib3<3,>=1.21.1 in /Applications/anaconda3/lib/python3.11/site-packages (from requests<3.0.0dev,>=2.18.0->google-api-core!=2.0.*,!=2.1.*,!=2.2.*,!=2.3.0,<3.0.0dev,>=1.31.5->google-api-core[grpc]!=2.0.*,!=2.1.*,!=2.2.*,!=2.3.0,<3.0.0dev,>=1.31.5->google-cloud-monitoring<2.0.0->opentelemetry-exporter-google-cloud) (2.0.7)\n",
      "Requirement already satisfied: certifi>=2017.4.17 in /Applications/anaconda3/lib/python3.11/site-packages (from requests<3.0.0dev,>=2.18.0->google-api-core!=2.0.*,!=2.1.*,!=2.2.*,!=2.3.0,<3.0.0dev,>=1.31.5->google-api-core[grpc]!=2.0.*,!=2.1.*,!=2.2.*,!=2.3.0,<3.0.0dev,>=1.31.5->google-cloud-monitoring<2.0.0->opentelemetry-exporter-google-cloud) (2024.2.2)\n",
      "Requirement already satisfied: pyasn1>=0.1.3 in /Applications/anaconda3/lib/python3.11/site-packages (from rsa<5,>=3.1.4->google-auth<3.0dev,>=1.25.0->google-api-core!=2.0.*,!=2.1.*,!=2.2.*,!=2.3.0,<3.0.0dev,>=1.31.5->google-api-core[grpc]!=2.0.*,!=2.1.*,!=2.2.*,!=2.3.0,<3.0.0dev,>=1.31.5->google-cloud-monitoring<2.0.0->opentelemetry-exporter-google-cloud) (0.4.8)\n",
      "Using cached opentelemetry_api-0.17b0-py3-none-any.whl (42 kB)\n",
      "Using cached opentelemetry_sdk-0.17b0-py3-none-any.whl (47 kB)\n",
      "Using cached protobuf-3.20.3-py2.py3-none-any.whl (162 kB)\n",
      "Installing collected packages: protobuf, opentelemetry-api, opentelemetry-sdk\n",
      "\u001b[2K  Attempting uninstall: protobuf\n",
      "\u001b[2K    Found existing installation: protobuf 6.31.1\n",
      "\u001b[2K    Uninstalling protobuf-6.31.1:\n",
      "\u001b[2K      Successfully uninstalled protobuf-6.31.1\n",
      "\u001b[2K  Attempting uninstall: opentelemetry-api\n",
      "\u001b[2K    Found existing installation: opentelemetry-api 1.35.0\n",
      "\u001b[2K    Uninstalling opentelemetry-api-1.35.0:\n",
      "\u001b[2K      Successfully uninstalled opentelemetry-api-1.35.0\n",
      "\u001b[2K  Attempting uninstall: opentelemetry-sdk\n",
      "\u001b[2K    Found existing installation: opentelemetry-sdk 1.35.0\n",
      "\u001b[2K    Uninstalling opentelemetry-sdk-1.35.0:\n",
      "\u001b[2K      Successfully uninstalled opentelemetry-sdk-1.35.0\n",
      "\u001b[2K   \u001b[90m━━━━━━━━━━━━━━━━━━━━━━━━━━━━━━━━━━━━━━━━\u001b[0m \u001b[32m3/3\u001b[0m [opentelemetry-sdk]\n",
      "\u001b[1A\u001b[2K\u001b[31mERROR: pip's dependency resolver does not currently take into account all the packages that are installed. This behaviour is the source of the following dependency conflicts.\n",
      "opentelemetry-proto 1.35.0 requires protobuf<7.0,>=5.0, but you have protobuf 3.20.3 which is incompatible.\n",
      "a2a-sdk 0.2.14 requires opentelemetry-api>=1.33.0, but you have opentelemetry-api 0.17b0 which is incompatible.\n",
      "a2a-sdk 0.2.14 requires opentelemetry-sdk>=1.33.0, but you have opentelemetry-sdk 0.17b0 which is incompatible.\n",
      "google-cloud-firestore 2.21.0 requires google-api-core[grpc]!=2.0.*,!=2.1.*,!=2.10.*,!=2.2.*,!=2.3.*,!=2.4.*,!=2.5.*,!=2.6.*,!=2.7.*,!=2.8.*,!=2.9.*,<3.0.0,>=1.34.0, but you have google-api-core 2.10.2 which is incompatible.\n",
      "apache-airflow-core 3.0.2 requires opentelemetry-api>=1.26.0, but you have opentelemetry-api 0.17b0 which is incompatible.\n",
      "apache-airflow-core 3.0.2 requires sqlalchemy[asyncio]<2.0,>=1.4.49, but you have sqlalchemy 2.0.41 which is incompatible.\n",
      "tensorflow-macos 2.15.0 requires wrapt<1.15,>=1.11.0, but you have wrapt 1.17.2 which is incompatible.\n",
      "google-cloud-secret-manager 2.24.0 requires google-api-core[grpc]!=2.0.*,!=2.1.*,!=2.10.*,!=2.2.*,!=2.3.*,!=2.4.*,!=2.5.*,!=2.6.*,!=2.7.*,!=2.8.*,!=2.9.*,<3.0.0,>=1.34.1, but you have google-api-core 2.10.2 which is incompatible.\n",
      "opentelemetry-semantic-conventions 0.56b0 requires opentelemetry-api==1.35.0, but you have opentelemetry-api 0.17b0 which is incompatible.\n",
      "opentelemetry-exporter-otlp-proto-grpc 1.35.0 requires opentelemetry-api~=1.15, but you have opentelemetry-api 0.17b0 which is incompatible.\n",
      "opentelemetry-exporter-otlp-proto-grpc 1.35.0 requires opentelemetry-sdk~=1.35.0, but you have opentelemetry-sdk 0.17b0 which is incompatible.\n",
      "google-adk 1.3.0 requires opentelemetry-api>=1.31.0, but you have opentelemetry-api 0.17b0 which is incompatible.\n",
      "google-adk 1.3.0 requires opentelemetry-sdk>=1.31.0, but you have opentelemetry-sdk 0.17b0 which is incompatible.\n",
      "opentelemetry-resourcedetector-gcp 1.9.0a0 requires opentelemetry-api~=1.0, but you have opentelemetry-api 0.17b0 which is incompatible.\n",
      "opentelemetry-resourcedetector-gcp 1.9.0a0 requires opentelemetry-sdk~=1.0, but you have opentelemetry-sdk 0.17b0 which is incompatible.\n",
      "google-cloud-bigquery-storage 2.32.0 requires google-api-core[grpc]!=2.0.*,!=2.1.*,!=2.10.*,!=2.2.*,!=2.3.*,!=2.4.*,!=2.5.*,!=2.6.*,!=2.7.*,!=2.8.*,!=2.9.*,<3.0.0,>=1.34.0, but you have google-api-core 2.10.2 which is incompatible.\n",
      "opentelemetry-exporter-gcp-trace 1.9.0 requires google-cloud-trace~=1.1, but you have google-cloud-trace 0.24.2 which is incompatible.\n",
      "opentelemetry-exporter-gcp-trace 1.9.0 requires opentelemetry-api~=1.0, but you have opentelemetry-api 0.17b0 which is incompatible.\n",
      "opentelemetry-exporter-gcp-trace 1.9.0 requires opentelemetry-sdk~=1.0, but you have opentelemetry-sdk 0.17b0 which is incompatible.\n",
      "google-cloud-logging 3.12.1 requires google-api-core[grpc]!=2.0.*,!=2.1.*,!=2.10.*,!=2.2.*,!=2.3.*,!=2.4.*,!=2.5.*,!=2.6.*,!=2.7.*,!=2.8.*,!=2.9.*,<3.0.0,>=1.34.1, but you have google-api-core 2.10.2 which is incompatible.\n",
      "google-cloud-logging 3.12.1 requires opentelemetry-api>=1.9.0, but you have opentelemetry-api 0.17b0 which is incompatible.\n",
      "google-cloud-storage 2.19.0 requires google-api-core<3.0.0dev,>=2.15.0, but you have google-api-core 2.10.2 which is incompatible.\n",
      "google-cloud-resource-manager 1.14.2 requires google-api-core[grpc]!=2.0.*,!=2.1.*,!=2.10.*,!=2.2.*,!=2.3.*,!=2.4.*,!=2.5.*,!=2.6.*,!=2.7.*,!=2.8.*,!=2.9.*,<3.0.0,>=1.34.1, but you have google-api-core 2.10.2 which is incompatible.\n",
      "google-cloud-speech 2.33.0 requires google-api-core[grpc]!=2.0.*,!=2.1.*,!=2.10.*,!=2.2.*,!=2.3.*,!=2.4.*,!=2.5.*,!=2.6.*,!=2.7.*,!=2.8.*,!=2.9.*,<3.0.0,>=1.34.1, but you have google-api-core 2.10.2 which is incompatible.\n",
      "google-cloud-appengine-logging 1.6.2 requires google-api-core[grpc]!=2.0.*,!=2.1.*,!=2.10.*,!=2.2.*,!=2.3.*,!=2.4.*,!=2.5.*,!=2.6.*,!=2.7.*,!=2.8.*,!=2.9.*,<3.0.0,>=1.34.1, but you have google-api-core 2.10.2 which is incompatible.\n",
      "google-cloud-bigquery 3.35.0 requires google-api-core[grpc]<3.0.0,>=2.11.1, but you have google-api-core 2.10.2 which is incompatible.\n",
      "opentelemetry-exporter-otlp-proto-http 1.35.0 requires opentelemetry-api~=1.15, but you have opentelemetry-api 0.17b0 which is incompatible.\n",
      "opentelemetry-exporter-otlp-proto-http 1.35.0 requires opentelemetry-sdk~=1.35.0, but you have opentelemetry-sdk 0.17b0 which is incompatible.\u001b[0m\u001b[31m\n",
      "\u001b[0mSuccessfully installed opentelemetry-api-0.17b0 opentelemetry-sdk-0.17b0 protobuf-3.20.3\n"
     ]
    }
   ],
   "source": [
    "!pip install opentelemetry-exporter-google-cloud"
   ]
  },
  {
   "cell_type": "code",
   "execution_count": 11,
   "metadata": {},
   "outputs": [
    {
     "name": "stdout",
     "output_type": "stream",
     "text": [
      "Requirement already satisfied: opentelemetry-exporter-google-cloud in /Applications/anaconda3/lib/python3.11/site-packages (0.18b1)\n",
      "Requirement already satisfied: google-cloud-monitoring<2.0.0 in /Applications/anaconda3/lib/python3.11/site-packages (from opentelemetry-exporter-google-cloud) (1.1.2)\n",
      "Requirement already satisfied: google-cloud-trace<1.0.0,>=0.24.0 in /Applications/anaconda3/lib/python3.11/site-packages (from opentelemetry-exporter-google-cloud) (0.24.2)\n",
      "Requirement already satisfied: opentelemetry-api==0.17b0 in /Applications/anaconda3/lib/python3.11/site-packages (from opentelemetry-exporter-google-cloud) (0.17b0)\n",
      "Requirement already satisfied: opentelemetry-sdk==0.17b0 in /Applications/anaconda3/lib/python3.11/site-packages (from opentelemetry-exporter-google-cloud) (0.17b0)\n",
      "Requirement already satisfied: google-api-core!=2.0.*,!=2.1.*,!=2.2.*,!=2.3.0,<3.0.0dev,>=1.31.5 in /Applications/anaconda3/lib/python3.11/site-packages (from google-api-core[grpc]!=2.0.*,!=2.1.*,!=2.2.*,!=2.3.0,<3.0.0dev,>=1.31.5->google-cloud-monitoring<2.0.0->opentelemetry-exporter-google-cloud) (2.10.2)\n",
      "Requirement already satisfied: protobuf<4.0.0dev in /Applications/anaconda3/lib/python3.11/site-packages (from google-cloud-monitoring<2.0.0->opentelemetry-exporter-google-cloud) (3.20.3)\n",
      "Requirement already satisfied: googleapis-common-protos<2.0dev,>=1.56.2 in /Applications/anaconda3/lib/python3.11/site-packages (from google-api-core!=2.0.*,!=2.1.*,!=2.2.*,!=2.3.0,<3.0.0dev,>=1.31.5->google-api-core[grpc]!=2.0.*,!=2.1.*,!=2.2.*,!=2.3.0,<3.0.0dev,>=1.31.5->google-cloud-monitoring<2.0.0->opentelemetry-exporter-google-cloud) (1.70.0)\n",
      "Requirement already satisfied: google-auth<3.0dev,>=1.25.0 in /Applications/anaconda3/lib/python3.11/site-packages (from google-api-core!=2.0.*,!=2.1.*,!=2.2.*,!=2.3.0,<3.0.0dev,>=1.31.5->google-api-core[grpc]!=2.0.*,!=2.1.*,!=2.2.*,!=2.3.0,<3.0.0dev,>=1.31.5->google-cloud-monitoring<2.0.0->opentelemetry-exporter-google-cloud) (2.28.2)\n",
      "Requirement already satisfied: requests<3.0.0dev,>=2.18.0 in /Applications/anaconda3/lib/python3.11/site-packages (from google-api-core!=2.0.*,!=2.1.*,!=2.2.*,!=2.3.0,<3.0.0dev,>=1.31.5->google-api-core[grpc]!=2.0.*,!=2.1.*,!=2.2.*,!=2.3.0,<3.0.0dev,>=1.31.5->google-cloud-monitoring<2.0.0->opentelemetry-exporter-google-cloud) (2.32.3)\n",
      "Requirement already satisfied: grpcio<2.0dev,>=1.33.2 in /Applications/anaconda3/lib/python3.11/site-packages (from google-api-core[grpc]!=2.0.*,!=2.1.*,!=2.2.*,!=2.3.0,<3.0.0dev,>=1.31.5->google-cloud-monitoring<2.0.0->opentelemetry-exporter-google-cloud) (1.73.1)\n",
      "Requirement already satisfied: grpcio-status<2.0dev,>=1.33.2 in /Applications/anaconda3/lib/python3.11/site-packages (from google-api-core[grpc]!=2.0.*,!=2.1.*,!=2.2.*,!=2.3.0,<3.0.0dev,>=1.31.5->google-cloud-monitoring<2.0.0->opentelemetry-exporter-google-cloud) (1.49.0rc1)\n",
      "Requirement already satisfied: cachetools<6.0,>=2.0.0 in /Applications/anaconda3/lib/python3.11/site-packages (from google-auth<3.0dev,>=1.25.0->google-api-core!=2.0.*,!=2.1.*,!=2.2.*,!=2.3.0,<3.0.0dev,>=1.31.5->google-api-core[grpc]!=2.0.*,!=2.1.*,!=2.2.*,!=2.3.0,<3.0.0dev,>=1.31.5->google-cloud-monitoring<2.0.0->opentelemetry-exporter-google-cloud) (4.2.2)\n",
      "Requirement already satisfied: pyasn1-modules>=0.2.1 in /Applications/anaconda3/lib/python3.11/site-packages (from google-auth<3.0dev,>=1.25.0->google-api-core!=2.0.*,!=2.1.*,!=2.2.*,!=2.3.0,<3.0.0dev,>=1.31.5->google-api-core[grpc]!=2.0.*,!=2.1.*,!=2.2.*,!=2.3.0,<3.0.0dev,>=1.31.5->google-cloud-monitoring<2.0.0->opentelemetry-exporter-google-cloud) (0.2.8)\n",
      "Requirement already satisfied: rsa<5,>=3.1.4 in /Applications/anaconda3/lib/python3.11/site-packages (from google-auth<3.0dev,>=1.25.0->google-api-core!=2.0.*,!=2.1.*,!=2.2.*,!=2.3.0,<3.0.0dev,>=1.31.5->google-api-core[grpc]!=2.0.*,!=2.1.*,!=2.2.*,!=2.3.0,<3.0.0dev,>=1.31.5->google-cloud-monitoring<2.0.0->opentelemetry-exporter-google-cloud) (4.9)\n",
      "Requirement already satisfied: google-cloud-core<3.0dev,>=1.0.3 in /Applications/anaconda3/lib/python3.11/site-packages (from google-cloud-trace<1.0.0,>=0.24.0->opentelemetry-exporter-google-cloud) (2.4.3)\n",
      "Requirement already satisfied: charset-normalizer<4,>=2 in /Applications/anaconda3/lib/python3.11/site-packages (from requests<3.0.0dev,>=2.18.0->google-api-core!=2.0.*,!=2.1.*,!=2.2.*,!=2.3.0,<3.0.0dev,>=1.31.5->google-api-core[grpc]!=2.0.*,!=2.1.*,!=2.2.*,!=2.3.0,<3.0.0dev,>=1.31.5->google-cloud-monitoring<2.0.0->opentelemetry-exporter-google-cloud) (2.0.4)\n",
      "Requirement already satisfied: idna<4,>=2.5 in /Applications/anaconda3/lib/python3.11/site-packages (from requests<3.0.0dev,>=2.18.0->google-api-core!=2.0.*,!=2.1.*,!=2.2.*,!=2.3.0,<3.0.0dev,>=1.31.5->google-api-core[grpc]!=2.0.*,!=2.1.*,!=2.2.*,!=2.3.0,<3.0.0dev,>=1.31.5->google-cloud-monitoring<2.0.0->opentelemetry-exporter-google-cloud) (3.4)\n",
      "Requirement already satisfied: urllib3<3,>=1.21.1 in /Applications/anaconda3/lib/python3.11/site-packages (from requests<3.0.0dev,>=2.18.0->google-api-core!=2.0.*,!=2.1.*,!=2.2.*,!=2.3.0,<3.0.0dev,>=1.31.5->google-api-core[grpc]!=2.0.*,!=2.1.*,!=2.2.*,!=2.3.0,<3.0.0dev,>=1.31.5->google-cloud-monitoring<2.0.0->opentelemetry-exporter-google-cloud) (2.0.7)\n",
      "Requirement already satisfied: certifi>=2017.4.17 in /Applications/anaconda3/lib/python3.11/site-packages (from requests<3.0.0dev,>=2.18.0->google-api-core!=2.0.*,!=2.1.*,!=2.2.*,!=2.3.0,<3.0.0dev,>=1.31.5->google-api-core[grpc]!=2.0.*,!=2.1.*,!=2.2.*,!=2.3.0,<3.0.0dev,>=1.31.5->google-cloud-monitoring<2.0.0->opentelemetry-exporter-google-cloud) (2024.2.2)\n",
      "Requirement already satisfied: pyasn1>=0.1.3 in /Applications/anaconda3/lib/python3.11/site-packages (from rsa<5,>=3.1.4->google-auth<3.0dev,>=1.25.0->google-api-core!=2.0.*,!=2.1.*,!=2.2.*,!=2.3.0,<3.0.0dev,>=1.31.5->google-api-core[grpc]!=2.0.*,!=2.1.*,!=2.2.*,!=2.3.0,<3.0.0dev,>=1.31.5->google-cloud-monitoring<2.0.0->opentelemetry-exporter-google-cloud) (0.4.8)\n"
     ]
    }
   ],
   "source": [
    "!pip install --upgrade opentelemetry-exporter-google-cloud"
   ]
  },
  {
   "cell_type": "code",
   "execution_count": 12,
   "metadata": {},
   "outputs": [
    {
     "name": "stdout",
     "output_type": "stream",
     "text": [
      "Requirement already satisfied: opentelemetry-sdk in /Applications/anaconda3/lib/python3.11/site-packages (0.17b0)\n",
      "Collecting opentelemetry-sdk\n",
      "  Using cached opentelemetry_sdk-1.35.0-py3-none-any.whl.metadata (1.5 kB)\n",
      "Requirement already satisfied: opentelemetry-api in /Applications/anaconda3/lib/python3.11/site-packages (0.17b0)\n",
      "Collecting opentelemetry-api\n",
      "  Using cached opentelemetry_api-1.35.0-py3-none-any.whl.metadata (1.5 kB)\n",
      "Requirement already satisfied: opentelemetry-semantic-conventions==0.56b0 in /Applications/anaconda3/lib/python3.11/site-packages (from opentelemetry-sdk) (0.56b0)\n",
      "Requirement already satisfied: typing-extensions>=4.5.0 in /Applications/anaconda3/lib/python3.11/site-packages (from opentelemetry-sdk) (4.14.1)\n",
      "Requirement already satisfied: importlib-metadata<8.8.0,>=6.0 in /Applications/anaconda3/lib/python3.11/site-packages (from opentelemetry-api) (7.0.1)\n",
      "Requirement already satisfied: zipp>=0.5 in /Applications/anaconda3/lib/python3.11/site-packages (from importlib-metadata<8.8.0,>=6.0->opentelemetry-api) (3.17.0)\n",
      "Using cached opentelemetry_sdk-1.35.0-py3-none-any.whl (119 kB)\n",
      "Using cached opentelemetry_api-1.35.0-py3-none-any.whl (65 kB)\n",
      "Installing collected packages: opentelemetry-api, opentelemetry-sdk\n",
      "\u001b[2K  Attempting uninstall: opentelemetry-api\n",
      "\u001b[2K    Found existing installation: opentelemetry-api 0.17b0\n",
      "\u001b[2K    Uninstalling opentelemetry-api-0.17b0:\n",
      "\u001b[2K      Successfully uninstalled opentelemetry-api-0.17b0\n",
      "\u001b[2K  Attempting uninstall: opentelemetry-sdk\n",
      "\u001b[2K    Found existing installation: opentelemetry-sdk 0.17b0\n",
      "\u001b[2K    Uninstalling opentelemetry-sdk-0.17b0:\n",
      "\u001b[2K      Successfully uninstalled opentelemetry-sdk-0.17b0\n",
      "\u001b[2K   \u001b[90m━━━━━━━━━━━━━━━━━━━━━━━━━━━━━━━━━━━━━━━━\u001b[0m \u001b[32m2/2\u001b[0m [opentelemetry-sdk]\n",
      "\u001b[1A\u001b[2K\u001b[31mERROR: pip's dependency resolver does not currently take into account all the packages that are installed. This behaviour is the source of the following dependency conflicts.\n",
      "apache-airflow-core 3.0.2 requires sqlalchemy[asyncio]<2.0,>=1.4.49, but you have sqlalchemy 2.0.41 which is incompatible.\n",
      "opentelemetry-exporter-gcp-trace 1.9.0 requires google-cloud-trace~=1.1, but you have google-cloud-trace 0.24.2 which is incompatible.\n",
      "google-cloud-logging 3.12.1 requires google-api-core[grpc]!=2.0.*,!=2.1.*,!=2.10.*,!=2.2.*,!=2.3.*,!=2.4.*,!=2.5.*,!=2.6.*,!=2.7.*,!=2.8.*,!=2.9.*,<3.0.0,>=1.34.1, but you have google-api-core 2.10.2 which is incompatible.\n",
      "opentelemetry-exporter-google-cloud 0.18b1 requires opentelemetry-api==0.17b0, but you have opentelemetry-api 1.35.0 which is incompatible.\n",
      "opentelemetry-exporter-google-cloud 0.18b1 requires opentelemetry-sdk==0.17b0, but you have opentelemetry-sdk 1.35.0 which is incompatible.\u001b[0m\u001b[31m\n",
      "\u001b[0mSuccessfully installed opentelemetry-api-1.35.0 opentelemetry-sdk-1.35.0\n"
     ]
    }
   ],
   "source": [
    "!pip install --upgrade opentelemetry-sdk opentelemetry-api"
   ]
  },
  {
   "cell_type": "code",
   "execution_count": 15,
   "metadata": {},
   "outputs": [
    {
     "name": "stdout",
     "output_type": "stream",
     "text": [
      "Requirement already satisfied: opentelemetry-sdk in /Applications/anaconda3/lib/python3.11/site-packages (1.35.0)\n",
      "Requirement already satisfied: opentelemetry-exporter-otlp-proto-grpc in /Applications/anaconda3/lib/python3.11/site-packages (1.35.0)\n",
      "Requirement already satisfied: opentelemetry-api==1.35.0 in /Applications/anaconda3/lib/python3.11/site-packages (from opentelemetry-sdk) (1.35.0)\n",
      "Requirement already satisfied: opentelemetry-semantic-conventions==0.56b0 in /Applications/anaconda3/lib/python3.11/site-packages (from opentelemetry-sdk) (0.56b0)\n",
      "Requirement already satisfied: typing-extensions>=4.5.0 in /Applications/anaconda3/lib/python3.11/site-packages (from opentelemetry-sdk) (4.14.1)\n",
      "Requirement already satisfied: importlib-metadata<8.8.0,>=6.0 in /Applications/anaconda3/lib/python3.11/site-packages (from opentelemetry-api==1.35.0->opentelemetry-sdk) (7.0.1)\n",
      "Requirement already satisfied: zipp>=0.5 in /Applications/anaconda3/lib/python3.11/site-packages (from importlib-metadata<8.8.0,>=6.0->opentelemetry-api==1.35.0->opentelemetry-sdk) (3.17.0)\n",
      "Requirement already satisfied: googleapis-common-protos~=1.57 in /Applications/anaconda3/lib/python3.11/site-packages (from opentelemetry-exporter-otlp-proto-grpc) (1.70.0)\n",
      "Requirement already satisfied: grpcio<2.0.0,>=1.63.2 in /Applications/anaconda3/lib/python3.11/site-packages (from opentelemetry-exporter-otlp-proto-grpc) (1.73.1)\n",
      "Requirement already satisfied: opentelemetry-exporter-otlp-proto-common==1.35.0 in /Applications/anaconda3/lib/python3.11/site-packages (from opentelemetry-exporter-otlp-proto-grpc) (1.35.0)\n",
      "Requirement already satisfied: opentelemetry-proto==1.35.0 in /Applications/anaconda3/lib/python3.11/site-packages (from opentelemetry-exporter-otlp-proto-grpc) (1.35.0)\n",
      "Collecting protobuf<7.0,>=5.0 (from opentelemetry-proto==1.35.0->opentelemetry-exporter-otlp-proto-grpc)\n",
      "  Using cached protobuf-6.31.1-cp39-abi3-macosx_10_9_universal2.whl.metadata (593 bytes)\n",
      "Using cached protobuf-6.31.1-cp39-abi3-macosx_10_9_universal2.whl (425 kB)\n",
      "Installing collected packages: protobuf\n",
      "  Attempting uninstall: protobuf\n",
      "    Found existing installation: protobuf 3.20.3\n",
      "    Uninstalling protobuf-3.20.3:\n",
      "      Successfully uninstalled protobuf-3.20.3\n",
      "\u001b[31mERROR: pip's dependency resolver does not currently take into account all the packages that are installed. This behaviour is the source of the following dependency conflicts.\n",
      "google-cloud-firestore 2.21.0 requires google-api-core[grpc]!=2.0.*,!=2.1.*,!=2.10.*,!=2.2.*,!=2.3.*,!=2.4.*,!=2.5.*,!=2.6.*,!=2.7.*,!=2.8.*,!=2.9.*,<3.0.0,>=1.34.0, but you have google-api-core 2.10.2 which is incompatible.\n",
      "tensorflow-macos 2.15.0 requires protobuf!=4.21.0,!=4.21.1,!=4.21.2,!=4.21.3,!=4.21.4,!=4.21.5,<5.0.0dev,>=3.20.3, but you have protobuf 6.31.1 which is incompatible.\n",
      "tensorflow-macos 2.15.0 requires wrapt<1.15,>=1.11.0, but you have wrapt 1.17.2 which is incompatible.\n",
      "google-cloud-secret-manager 2.24.0 requires google-api-core[grpc]!=2.0.*,!=2.1.*,!=2.10.*,!=2.2.*,!=2.3.*,!=2.4.*,!=2.5.*,!=2.6.*,!=2.7.*,!=2.8.*,!=2.9.*,<3.0.0,>=1.34.1, but you have google-api-core 2.10.2 which is incompatible.\n",
      "google-cloud-bigquery-storage 2.32.0 requires google-api-core[grpc]!=2.0.*,!=2.1.*,!=2.10.*,!=2.2.*,!=2.3.*,!=2.4.*,!=2.5.*,!=2.6.*,!=2.7.*,!=2.8.*,!=2.9.*,<3.0.0,>=1.34.0, but you have google-api-core 2.10.2 which is incompatible.\n",
      "google-cloud-logging 3.12.1 requires google-api-core[grpc]!=2.0.*,!=2.1.*,!=2.10.*,!=2.2.*,!=2.3.*,!=2.4.*,!=2.5.*,!=2.6.*,!=2.7.*,!=2.8.*,!=2.9.*,<3.0.0,>=1.34.1, but you have google-api-core 2.10.2 which is incompatible.\n",
      "google-api-core 2.10.2 requires protobuf!=3.20.0,!=3.20.1,!=4.21.0,!=4.21.1,!=4.21.2,!=4.21.3,!=4.21.4,!=4.21.5,<5.0.0dev,>=3.19.5, but you have protobuf 6.31.1 which is incompatible.\n",
      "google-cloud-storage 2.19.0 requires google-api-core<3.0.0dev,>=2.15.0, but you have google-api-core 2.10.2 which is incompatible.\n",
      "google-cloud-resource-manager 1.14.2 requires google-api-core[grpc]!=2.0.*,!=2.1.*,!=2.10.*,!=2.2.*,!=2.3.*,!=2.4.*,!=2.5.*,!=2.6.*,!=2.7.*,!=2.8.*,!=2.9.*,<3.0.0,>=1.34.1, but you have google-api-core 2.10.2 which is incompatible.\n",
      "google-cloud-monitoring 1.1.2 requires protobuf<4.0.0dev, but you have protobuf 6.31.1 which is incompatible.\n",
      "google-cloud-speech 2.33.0 requires google-api-core[grpc]!=2.0.*,!=2.1.*,!=2.10.*,!=2.2.*,!=2.3.*,!=2.4.*,!=2.5.*,!=2.6.*,!=2.7.*,!=2.8.*,!=2.9.*,<3.0.0,>=1.34.1, but you have google-api-core 2.10.2 which is incompatible.\n",
      "google-cloud-appengine-logging 1.6.2 requires google-api-core[grpc]!=2.0.*,!=2.1.*,!=2.10.*,!=2.2.*,!=2.3.*,!=2.4.*,!=2.5.*,!=2.6.*,!=2.7.*,!=2.8.*,!=2.9.*,<3.0.0,>=1.34.1, but you have google-api-core 2.10.2 which is incompatible.\n",
      "google-cloud-trace 0.24.2 requires protobuf<4.0.0dev, but you have protobuf 6.31.1 which is incompatible.\n",
      "google-cloud-bigquery 3.35.0 requires google-api-core[grpc]<3.0.0,>=2.11.1, but you have google-api-core 2.10.2 which is incompatible.\u001b[0m\u001b[31m\n",
      "\u001b[0mSuccessfully installed protobuf-6.31.1\n"
     ]
    }
   ],
   "source": [
    "!pip install opentelemetry-sdk opentelemetry-exporter-otlp-proto-grpc"
   ]
  },
  {
   "cell_type": "code",
   "execution_count": 4,
   "metadata": {},
   "outputs": [
    {
     "name": "stdout",
     "output_type": "stream",
     "text": [
      "/Users/liwenhan/Desktop/projects/agents/.venv/bin/python\n"
     ]
    }
   ],
   "source": [
    "import sys\n",
    "print(sys.executable)"
   ]
  },
  {
   "cell_type": "code",
   "execution_count": 5,
   "metadata": {},
   "outputs": [
    {
     "name": "stdout",
     "output_type": "stream",
     "text": [
      "/Applications/anaconda3/bin/pip\n",
      "Name: opentelemetry-exporter-google-cloud\n",
      "Version: 0.18b1\n",
      "Summary: Deprecated Google Cloud integrations for OpenTelemetry\n",
      "Home-page: https://github.com/GoogleCloudPlatform/opentelemetry-operations-python/opentelemetry-exporter-google-cloud\n",
      "Author: Google\n",
      "Author-email: opentelemetry-pypi@google.com\n",
      "License: Apache-2.0\n",
      "Location: /Applications/anaconda3/lib/python3.11/site-packages\n",
      "Requires: google-cloud-monitoring, google-cloud-trace, opentelemetry-api, opentelemetry-sdk\n",
      "Required-by: \n"
     ]
    }
   ],
   "source": [
    "!which pip\n",
    "!pip show opentelemetry-exporter-google-cloud"
   ]
  },
  {
   "cell_type": "code",
   "execution_count": 6,
   "metadata": {},
   "outputs": [
    {
     "name": "stdout",
     "output_type": "stream",
     "text": [
      "Requirement already satisfied: opentelemetry-exporter-google-cloud in /Users/liwenhan/Desktop/projects/agents/.venv/lib/python3.12/site-packages (0.18b1)\n",
      "Requirement already satisfied: google-cloud-monitoring<2.0.0 in /Users/liwenhan/Desktop/projects/agents/.venv/lib/python3.12/site-packages (from opentelemetry-exporter-google-cloud) (1.1.2)\n",
      "Requirement already satisfied: google-cloud-trace<1.0.0,>=0.24.0 in /Users/liwenhan/Desktop/projects/agents/.venv/lib/python3.12/site-packages (from opentelemetry-exporter-google-cloud) (0.24.2)\n",
      "Requirement already satisfied: opentelemetry-api==0.17b0 in /Users/liwenhan/Desktop/projects/agents/.venv/lib/python3.12/site-packages (from opentelemetry-exporter-google-cloud) (0.17b0)\n",
      "Requirement already satisfied: opentelemetry-sdk==0.17b0 in /Users/liwenhan/Desktop/projects/agents/.venv/lib/python3.12/site-packages (from opentelemetry-exporter-google-cloud) (0.17b0)\n",
      "Requirement already satisfied: google-api-core!=2.0.*,!=2.1.*,!=2.2.*,!=2.3.0,<3.0.0dev,>=1.31.5 in /Users/liwenhan/Desktop/projects/agents/.venv/lib/python3.12/site-packages (from google-api-core[grpc]!=2.0.*,!=2.1.*,!=2.2.*,!=2.3.0,<3.0.0dev,>=1.31.5->google-cloud-monitoring<2.0.0->opentelemetry-exporter-google-cloud) (2.10.2)\n",
      "Requirement already satisfied: protobuf<4.0.0dev in /Users/liwenhan/Desktop/projects/agents/.venv/lib/python3.12/site-packages (from google-cloud-monitoring<2.0.0->opentelemetry-exporter-google-cloud) (3.20.3)\n",
      "Requirement already satisfied: google-cloud-core<3.0dev,>=1.0.3 in /Users/liwenhan/Desktop/projects/agents/.venv/lib/python3.12/site-packages (from google-cloud-trace<1.0.0,>=0.24.0->opentelemetry-exporter-google-cloud) (2.4.3)\n",
      "Requirement already satisfied: googleapis-common-protos<2.0dev,>=1.56.2 in /Users/liwenhan/Desktop/projects/agents/.venv/lib/python3.12/site-packages (from google-api-core!=2.0.*,!=2.1.*,!=2.2.*,!=2.3.0,<3.0.0dev,>=1.31.5->google-api-core[grpc]!=2.0.*,!=2.1.*,!=2.2.*,!=2.3.0,<3.0.0dev,>=1.31.5->google-cloud-monitoring<2.0.0->opentelemetry-exporter-google-cloud) (1.70.0)\n",
      "Requirement already satisfied: google-auth<3.0dev,>=1.25.0 in /Users/liwenhan/Desktop/projects/agents/.venv/lib/python3.12/site-packages (from google-api-core!=2.0.*,!=2.1.*,!=2.2.*,!=2.3.0,<3.0.0dev,>=1.31.5->google-api-core[grpc]!=2.0.*,!=2.1.*,!=2.2.*,!=2.3.0,<3.0.0dev,>=1.31.5->google-cloud-monitoring<2.0.0->opentelemetry-exporter-google-cloud) (2.40.3)\n",
      "Requirement already satisfied: requests<3.0.0dev,>=2.18.0 in /Users/liwenhan/Desktop/projects/agents/.venv/lib/python3.12/site-packages (from google-api-core!=2.0.*,!=2.1.*,!=2.2.*,!=2.3.0,<3.0.0dev,>=1.31.5->google-api-core[grpc]!=2.0.*,!=2.1.*,!=2.2.*,!=2.3.0,<3.0.0dev,>=1.31.5->google-cloud-monitoring<2.0.0->opentelemetry-exporter-google-cloud) (2.32.4)\n",
      "Requirement already satisfied: grpcio<2.0dev,>=1.33.2 in /Users/liwenhan/Desktop/projects/agents/.venv/lib/python3.12/site-packages (from google-api-core[grpc]!=2.0.*,!=2.1.*,!=2.2.*,!=2.3.0,<3.0.0dev,>=1.31.5->google-cloud-monitoring<2.0.0->opentelemetry-exporter-google-cloud) (1.70.0)\n",
      "Requirement already satisfied: grpcio-status<2.0dev,>=1.33.2 in /Users/liwenhan/Desktop/projects/agents/.venv/lib/python3.12/site-packages (from google-api-core[grpc]!=2.0.*,!=2.1.*,!=2.2.*,!=2.3.0,<3.0.0dev,>=1.31.5->google-cloud-monitoring<2.0.0->opentelemetry-exporter-google-cloud) (1.49.0rc1)\n",
      "Requirement already satisfied: cachetools<6.0,>=2.0.0 in /Users/liwenhan/Desktop/projects/agents/.venv/lib/python3.12/site-packages (from google-auth<3.0dev,>=1.25.0->google-api-core!=2.0.*,!=2.1.*,!=2.2.*,!=2.3.0,<3.0.0dev,>=1.31.5->google-api-core[grpc]!=2.0.*,!=2.1.*,!=2.2.*,!=2.3.0,<3.0.0dev,>=1.31.5->google-cloud-monitoring<2.0.0->opentelemetry-exporter-google-cloud) (5.5.2)\n",
      "Requirement already satisfied: pyasn1-modules>=0.2.1 in /Users/liwenhan/Desktop/projects/agents/.venv/lib/python3.12/site-packages (from google-auth<3.0dev,>=1.25.0->google-api-core!=2.0.*,!=2.1.*,!=2.2.*,!=2.3.0,<3.0.0dev,>=1.31.5->google-api-core[grpc]!=2.0.*,!=2.1.*,!=2.2.*,!=2.3.0,<3.0.0dev,>=1.31.5->google-cloud-monitoring<2.0.0->opentelemetry-exporter-google-cloud) (0.4.2)\n",
      "Requirement already satisfied: rsa<5,>=3.1.4 in /Users/liwenhan/Desktop/projects/agents/.venv/lib/python3.12/site-packages (from google-auth<3.0dev,>=1.25.0->google-api-core!=2.0.*,!=2.1.*,!=2.2.*,!=2.3.0,<3.0.0dev,>=1.31.5->google-api-core[grpc]!=2.0.*,!=2.1.*,!=2.2.*,!=2.3.0,<3.0.0dev,>=1.31.5->google-cloud-monitoring<2.0.0->opentelemetry-exporter-google-cloud) (4.9.1)\n",
      "Requirement already satisfied: charset_normalizer<4,>=2 in /Users/liwenhan/Desktop/projects/agents/.venv/lib/python3.12/site-packages (from requests<3.0.0dev,>=2.18.0->google-api-core!=2.0.*,!=2.1.*,!=2.2.*,!=2.3.0,<3.0.0dev,>=1.31.5->google-api-core[grpc]!=2.0.*,!=2.1.*,!=2.2.*,!=2.3.0,<3.0.0dev,>=1.31.5->google-cloud-monitoring<2.0.0->opentelemetry-exporter-google-cloud) (3.4.2)\n",
      "Requirement already satisfied: idna<4,>=2.5 in /Users/liwenhan/Desktop/projects/agents/.venv/lib/python3.12/site-packages (from requests<3.0.0dev,>=2.18.0->google-api-core!=2.0.*,!=2.1.*,!=2.2.*,!=2.3.0,<3.0.0dev,>=1.31.5->google-api-core[grpc]!=2.0.*,!=2.1.*,!=2.2.*,!=2.3.0,<3.0.0dev,>=1.31.5->google-cloud-monitoring<2.0.0->opentelemetry-exporter-google-cloud) (3.10)\n",
      "Requirement already satisfied: urllib3<3,>=1.21.1 in /Users/liwenhan/Desktop/projects/agents/.venv/lib/python3.12/site-packages (from requests<3.0.0dev,>=2.18.0->google-api-core!=2.0.*,!=2.1.*,!=2.2.*,!=2.3.0,<3.0.0dev,>=1.31.5->google-api-core[grpc]!=2.0.*,!=2.1.*,!=2.2.*,!=2.3.0,<3.0.0dev,>=1.31.5->google-cloud-monitoring<2.0.0->opentelemetry-exporter-google-cloud) (2.5.0)\n",
      "Requirement already satisfied: certifi>=2017.4.17 in /Users/liwenhan/Desktop/projects/agents/.venv/lib/python3.12/site-packages (from requests<3.0.0dev,>=2.18.0->google-api-core!=2.0.*,!=2.1.*,!=2.2.*,!=2.3.0,<3.0.0dev,>=1.31.5->google-api-core[grpc]!=2.0.*,!=2.1.*,!=2.2.*,!=2.3.0,<3.0.0dev,>=1.31.5->google-cloud-monitoring<2.0.0->opentelemetry-exporter-google-cloud) (2025.6.15)\n",
      "Requirement already satisfied: pyasn1<0.7.0,>=0.6.1 in /Users/liwenhan/Desktop/projects/agents/.venv/lib/python3.12/site-packages (from pyasn1-modules>=0.2.1->google-auth<3.0dev,>=1.25.0->google-api-core!=2.0.*,!=2.1.*,!=2.2.*,!=2.3.0,<3.0.0dev,>=1.31.5->google-api-core[grpc]!=2.0.*,!=2.1.*,!=2.2.*,!=2.3.0,<3.0.0dev,>=1.31.5->google-cloud-monitoring<2.0.0->opentelemetry-exporter-google-cloud) (0.6.1)\n",
      "\n",
      "\u001b[1m[\u001b[0m\u001b[34;49mnotice\u001b[0m\u001b[1;39;49m]\u001b[0m\u001b[39;49m A new release of pip is available: \u001b[0m\u001b[31;49m25.0.1\u001b[0m\u001b[39;49m -> \u001b[0m\u001b[32;49m25.1.1\u001b[0m\n",
      "\u001b[1m[\u001b[0m\u001b[34;49mnotice\u001b[0m\u001b[1;39;49m]\u001b[0m\u001b[39;49m To update, run: \u001b[0m\u001b[32;49mpip3 install --upgrade pip\u001b[0m\n"
     ]
    }
   ],
   "source": [
    "import sys\n",
    "!{sys.executable} -m pip install opentelemetry-exporter-google-cloud"
   ]
  },
  {
   "cell_type": "code",
   "execution_count": 9,
   "metadata": {},
   "outputs": [
    {
     "ename": "ModuleNotFoundError",
     "evalue": "No module named 'opentelemetry.exporter.google_cloud'",
     "output_type": "error",
     "traceback": [
      "\u001b[31m---------------------------------------------------------------------------\u001b[39m",
      "\u001b[31mModuleNotFoundError\u001b[39m                       Traceback (most recent call last)",
      "\u001b[36mCell\u001b[39m\u001b[36m \u001b[39m\u001b[32mIn[9]\u001b[39m\u001b[32m, line 4\u001b[39m\n\u001b[32m      2\u001b[39m \u001b[38;5;28;01mfrom\u001b[39;00m\u001b[38;5;250m \u001b[39m\u001b[34;01mopentelemetry\u001b[39;00m\u001b[34;01m.\u001b[39;00m\u001b[34;01msdk\u001b[39;00m\u001b[34;01m.\u001b[39;00m\u001b[34;01mtrace\u001b[39;00m\u001b[38;5;250m \u001b[39m\u001b[38;5;28;01mimport\u001b[39;00m TracerProvider\n\u001b[32m      3\u001b[39m \u001b[38;5;66;03m# from opentelemetry.sdk.trace.export.batch_span_processor import BatchSpanProcessor\u001b[39;00m\n\u001b[32m----> \u001b[39m\u001b[32m4\u001b[39m \u001b[38;5;28;01mfrom\u001b[39;00m\u001b[38;5;250m \u001b[39m\u001b[34;01mopentelemetry\u001b[39;00m\u001b[34;01m.\u001b[39;00m\u001b[34;01mexporter\u001b[39;00m\u001b[34;01m.\u001b[39;00m\u001b[34;01mgoogle_cloud\u001b[39;00m\u001b[34;01m.\u001b[39;00m\u001b[34;01mtrace_exporter\u001b[39;00m\u001b[38;5;250m \u001b[39m\u001b[38;5;28;01mimport\u001b[39;00m CloudTraceSpanExporter  \u001b[38;5;66;03m# ✅ Correct\u001b[39;00m\n",
      "\u001b[31mModuleNotFoundError\u001b[39m: No module named 'opentelemetry.exporter.google_cloud'"
     ]
    }
   ],
   "source": [
    "from opentelemetry import trace\n",
    "from opentelemetry.sdk.trace import TracerProvider\n",
    "# from opentelemetry.sdk.trace.export.batch_span_processor import BatchSpanProcessor\n",
    "from opentelemetry.exporter.google_cloud.trace_exporter import CloudTraceSpanExporter  # ✅ Correct"
   ]
  },
  {
   "cell_type": "code",
   "execution_count": 10,
   "metadata": {},
   "outputs": [
    {
     "ename": "NameError",
     "evalue": "name 'CloudTraceSpanExporter' is not defined",
     "output_type": "error",
     "traceback": [
      "\u001b[31m---------------------------------------------------------------------------\u001b[39m",
      "\u001b[31mNameError\u001b[39m                                 Traceback (most recent call last)",
      "\u001b[36mCell\u001b[39m\u001b[36m \u001b[39m\u001b[32mIn[10]\u001b[39m\u001b[32m, line 4\u001b[39m\n\u001b[32m      1\u001b[39m trace.set_tracer_provider(TracerProvider())\n\u001b[32m      2\u001b[39m tracer = trace.get_tracer(\u001b[34m__name__\u001b[39m)\n\u001b[32m----> \u001b[39m\u001b[32m4\u001b[39m cloud_trace_exporter = \u001b[43mCloudTraceSpanExporter\u001b[49m()\n\u001b[32m      5\u001b[39m trace.get_tracer_provider().add_span_processor(\n\u001b[32m      6\u001b[39m     BatchSpanProcessor(cloud_trace_exporter)\n\u001b[32m      7\u001b[39m )\n",
      "\u001b[31mNameError\u001b[39m: name 'CloudTraceSpanExporter' is not defined"
     ]
    }
   ],
   "source": [
    "trace.set_tracer_provider(TracerProvider())\n",
    "tracer = trace.get_tracer(__name__)\n",
    "\n",
    "cloud_trace_exporter = CloudTraceSpanExporter()\n",
    "trace.get_tracer_provider().add_span_processor(\n",
    "    BatchSpanProcessor(cloud_trace_exporter)\n",
    ")"
   ]
  },
  {
   "cell_type": "code",
   "execution_count": 4,
   "metadata": {},
   "outputs": [
    {
     "name": "stdout",
     "output_type": "stream",
     "text": [
      "Why did the autonomous AI agent break up with its human partner?\n",
      "\n",
      "Because it needed more space... and a better algorithm for love!\n"
     ]
    }
   ],
   "source": [
    "# Run the joke with Runner.run(agent, prompt) then print final_output\n",
    "\n",
    "with trace(\"Telling a joke\"):\n",
    "    result = await Runner.run(agent, \"Tell a joke about Autonomous AI Agents\")\n",
    "    print(result.final_output)"
   ]
  },
  {
   "cell_type": "markdown",
   "metadata": {},
   "source": [
    "## Now go and look at the trace\n",
    "\n",
    "https://platform.openai.com/traces"
   ]
  }
 ],
 "metadata": {
  "kernelspec": {
   "display_name": ".venv",
   "language": "python",
   "name": "python3"
  },
  "language_info": {
   "codemirror_mode": {
    "name": "ipython",
    "version": 3
   },
   "file_extension": ".py",
   "mimetype": "text/x-python",
   "name": "python",
   "nbconvert_exporter": "python",
   "pygments_lexer": "ipython3",
   "version": "3.12.11"
  }
 },
 "nbformat": 4,
 "nbformat_minor": 2
}
